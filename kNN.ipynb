{
 "cells": [
  {
   "cell_type": "code",
   "execution_count": 89,
   "metadata": {
    "scrolled": false
   },
   "outputs": [
    {
     "name": "stdout",
     "output_type": "stream",
     "text": [
      "\n",
      "\n",
      "Точка:  2.604376585308132 4.3087923929241185\n",
      "\n",
      "10 минимальных расстояний от нашей точки\n",
      "[0.13191006144397358, 0.1435420419974429, 0.17444167549932835, 0.17740330091883927, 0.1932387836932107, 0.20425981109272406, 0.2273514404926621, 0.24400332761967292, 0.27012614660472056, 0.27676902611104415, 0.28451502092888376]\n",
      "\n",
      "кластеры точек, у которых мин. расстояние до нашей  [2, 0, 2, 9, 2, 2, 0, 2, 0, 0, 2] Кластер нашей точки: 2\n",
      "\n",
      "\n",
      "Точка:  4.24797335283658 4.70286589807559\n",
      "\n",
      "10 минимальных расстояний от нашей точки\n",
      "[0.08444783232502062, 0.11041131632221343, 0.12797082814464567, 0.1658396718288981, 0.18899009724716787, 0.19149454314077094, 0.19326925931884315, 0.22723790323027818, 0.2440868086309373, 0.24787358765734716, 0.26265487130681314]\n",
      "\n",
      "кластеры точек, у которых мин. расстояние до нашей  [3, 2, 2, 3, 2, 2, 2, 2, 3, 9, 6] Кластер нашей точки: 2\n",
      "\n",
      "\n",
      "Точка:  3.4044099703584383 4.033806681749515\n",
      "\n",
      "10 минимальных расстояний от нашей точки\n",
      "[0.056885588413678544, 0.06413216225319647, 0.0779110512062047, 0.10728161197069182, 0.12606901049725489, 0.13458019116812373, 0.1429603049156241, 0.1507872719200652, 0.15225450035736554, 0.15573538647993804, 0.15892522152166988]\n",
      "\n",
      "кластеры точек, у которых мин. расстояние до нашей  [0, 0, 0, 2, 9, 0, 2, 9, 0, 9, 9] Кластер нашей точки: 0\n",
      "\n",
      "\n",
      "Точка:  3.8038667651516134 4.732676355172035\n",
      "\n",
      "10 минимальных расстояний от нашей точки\n",
      "[0.08902665556407426, 0.14994221500361987, 0.15178287498479612, 0.18802468409094017, 0.19418401143030914, 0.2085290835678301, 0.21189080159547358, 0.21961625125940054, 0.23888763856288858, 0.24209807732545593, 0.25236648566629727]\n",
      "\n",
      "кластеры точек, у которых мин. расстояние до нашей  [2, 2, 2, 3, 9, 2, 9, 9, 2, 2, 9] Кластер нашей точки: 2\n",
      "\n",
      "\n",
      "Точка:  2.241424372514178 4.160760572836654\n",
      "\n",
      "10 минимальных расстояний от нашей точки\n",
      "[0.02934637362175283, 0.21177153706286456, 0.25989226785054365, 0.2681078752833417, 0.34481926835985466, 0.3808575696912568, 0.3982646336148194, 0.39954837198619236, 0.4197269976694134, 0.4199055752063209, 0.4412427435643891]\n",
      "\n",
      "кластеры точек, у которых мин. расстояние до нашей  [0, 0, 9, 0, 0, 2, 9, 4, 9, 0, 0] Кластер нашей точки: 0\n"
     ]
    },
    {
     "data": {
      "image/png": "[encoded data removed]",
      "text/plain": [
       "<Figure size 432x288 with 1 Axes>"
      ]
     },
     "metadata": {
      "needs_background": "light"
     },
     "output_type": "display_data"
    }
   ],
   "source": [
    "import numpy as np \n",
    "import matplotlib.pyplot as plt \n",
    "import random \n",
    "\n",
    "# Train data generator \n",
    "def generateData(numberOfClassEl, numberOfClasses): \n",
    "    data = [] \n",
    "    for classNum in range(numberOfClasses): \n",
    "        # Choose random center of 2-dimensional gaussian \n",
    "        centerX, centerY = random.random() * 5.0, random.random() * 5.0 \n",
    "        # Choose numberOfClassEl random nodes with RMS=0.5 \n",
    "        for rowNum in range(numberOfClassEl): \n",
    "            data.append([[random.gauss(centerX, 0.5), random.gauss(centerY, 0.5)], classNum]) \n",
    "    return data \n",
    "\n",
    "def dist(x1, y1, x2, y2): \n",
    "    return np.sqrt((x1 - x2) ** 2 + (y1 - y2) ** 2) \n",
    "\n",
    "n = 100\n",
    "k = np.int(np.sqrt(n)) \n",
    "data = [] \n",
    "data = generateData(n, k) \n",
    "x, y = [], [] \n",
    "for i in range(n): \n",
    "    x.append(data[i][0][0]) \n",
    "    y.append(data[i][0][1]) \n",
    "plt.scatter(x, y) \n",
    "\n",
    "# print(data)\n",
    "\n",
    "min_x, max_x = np.min(x), np.max(x) \n",
    "min_y, max_y = np.min(y), np.max(y) \n",
    "\n",
    "#создадим 5 новых точек\n",
    "for i in range(5):\n",
    "    x_new = min_x + np.random.random() * (max_x - min_x) \n",
    "    y_new = min_y + np.random.random() * (max_y - min_y) \n",
    "\n",
    "    plt.scatter(x_new, y_new, color='r') \n",
    "\n",
    "    distance = [] \n",
    "    for j in range(n*k):\n",
    "        distance.append([data[j][1], dist(data[j][0][0], data[j][0][1], x_new, y_new)]) \n",
    "\n",
    "    #вычисляем 11 точек, расстояние которых минимально до новой\n",
    "    points_with_min_distances = []\n",
    "    clusters = []\n",
    "    min = 1000\n",
    "    min_cl = 12\n",
    "    for j in range(11):\n",
    "        for i in range(len(distance)):\n",
    "            if(len(points_with_min_distances) == 0):\n",
    "                 if(distance[i][1] < min):\n",
    "                    min = distance[i][1]\n",
    "                    min_cl = distance[i][0]\n",
    "            else:\n",
    "                if((distance[i][1] < min) & (distance[i][1] > points_with_min_distances[j-1])):\n",
    "                    min = distance[i][1]\n",
    "                    min_cl = distance[i][0]\n",
    "        points_with_min_distances.append(min)\n",
    "        clusters.append(min_cl)\n",
    "        min = 1000\n",
    "    print(\"\\n\\nТочка: \", x_new, y_new)\n",
    "    print(\"\\n10 минимальных расстояний от нашей точки\")\n",
    "    print(points_with_min_distances)\n",
    "    \n",
    "    import numpy as np\n",
    "    bc = np.bincount(clusters)\n",
    "    \n",
    "    print(\"\\nкластеры точек, у которых мин. расстояние до нашей \",clusters, \"Кластер нашей точки:\", bc.argmax())\n",
    "\n",
    "plt.show()"
   ]
  }
 ],
 "metadata": {
  "kernelspec": {
   "display_name": "Python 3",
   "language": "python",
   "name": "python3"
  },
  "language_info": {
   "codemirror_mode": {
    "name": "ipython",
    "version": 3
   },
   "file_extension": ".py",
   "mimetype": "text/x-python",
   "name": "python",
   "nbconvert_exporter": "python",
   "pygments_lexer": "ipython3",
   "version": "3.8.3"
  }
 },
 "nbformat": 4,
 "nbformat_minor": 4
}
