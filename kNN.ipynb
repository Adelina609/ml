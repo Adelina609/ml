{
 "cells": [
  {
   "cell_type": "code",
   "execution_count": 90,
   "metadata": {
    "scrolled": false
   },
   "outputs": [
    {
     "name": "stdout",
     "output_type": "stream",
     "text": [
      "\n",
      "\n",
      "Точка:  3.2742025991672357 0.8909053353868394\n",
      "\n",
      "10 минимальных расстояний от нашей точки\n",
      "[0.0339802968886456, 0.06062882157180646, 0.09414559539050817, 0.10371151843019923, 0.12774949579200545, 0.1382771421599351, 0.14972106044361325, 0.15236597247215614, 0.16091627171738487, 0.17266172587581913]\n",
      "\n",
      "кластеры точек, у которых мин. расстояние до нашей  [6, 6, 6, 6, 1, 6, 6, 9, 9, 6] Кластер нашей точки: 6\n",
      "\n",
      "\n",
      "Точка:  4.55026942851192 1.6027614585379664\n",
      "\n",
      "10 минимальных расстояний от нашей точки\n",
      "[0.06656502017751288, 0.11211642056072327, 0.12628813112806603, 0.13358110807387596, 0.13774271989445577, 0.1706249609496728, 0.18091250508612053, 0.21415526709891441, 0.2266343035888376, 0.24109217525534943]\n",
      "\n",
      "кластеры точек, у которых мин. расстояние до нашей  [5, 0, 1, 0, 0, 1, 1, 5, 1, 0] Кластер нашей точки: 0\n",
      "\n",
      "\n",
      "Точка:  3.1030038246911094 2.0929236466287984\n",
      "\n",
      "10 минимальных расстояний от нашей точки\n",
      "[0.1620296029279381, 0.17379076523349538, 0.21973723382414695, 0.23820853681741608, 0.2835253754008906, 0.28685159967715496, 0.31292249966131735, 0.3177015368260857, 0.32327272685245495, 0.32368622364236205]\n",
      "\n",
      "кластеры точек, у которых мин. расстояние до нашей  [0, 0, 0, 0, 4, 0, 0, 0, 1, 0] Кластер нашей точки: 0\n",
      "\n",
      "\n",
      "Точка:  2.5271390166284315 1.7404275264635594\n",
      "\n",
      "10 минимальных расстояний от нашей точки\n",
      "[0.033930666419808256, 0.09217824434717496, 0.14092605883026937, 0.15441875453841308, 0.15466638419547227, 0.15611688952480549, 0.17668617660953279, 0.1782552792890628, 0.19906299865624752, 0.20067471683930196]\n",
      "\n",
      "кластеры точек, у которых мин. расстояние до нашей  [9, 0, 9, 9, 9, 0, 9, 9, 9, 9] Кластер нашей точки: 9\n",
      "\n",
      "\n",
      "Точка:  2.8436829985607046 0.548277382915485\n",
      "\n",
      "10 минимальных расстояний от нашей точки\n",
      "[0.048107388662473966, 0.09154383385694204, 0.10451499379614422, 0.14088636804149435, 0.153965159566632, 0.16040008055910854, 0.1726055766217288, 0.1798069084432441, 0.19119194932144046, 0.2283122932201393]\n",
      "\n",
      "кластеры точек, у которых мин. расстояние до нашей  [6, 6, 6, 6, 6, 6, 6, 6, 6, 6] Кластер нашей точки: 6\n"
     ]
    },
    {
     "data": {
      "image/png": "[encoded data removed]",
      "text/plain": [
       "<Figure size 432x288 with 1 Axes>"
      ]
     },
     "metadata": {
      "needs_background": "light"
     },
     "output_type": "display_data"
    }
   ],
   "source": [
    "import numpy as np \n",
    "import matplotlib.pyplot as plt \n",
    "import random \n",
    "\n",
    "# Train data generator \n",
    "def generateData(numberOfClassEl, numberOfClasses): \n",
    "    data = [] \n",
    "    for classNum in range(numberOfClasses): \n",
    "        # Choose random center of 2-dimensional gaussian \n",
    "        centerX, centerY = random.random() * 5.0, random.random() * 5.0 \n",
    "        # Choose numberOfClassEl random nodes with RMS=0.5 \n",
    "        for rowNum in range(numberOfClassEl): \n",
    "            data.append([[random.gauss(centerX, 0.5), random.gauss(centerY, 0.5)], classNum]) \n",
    "    return data \n",
    "\n",
    "def dist(x1, y1, x2, y2): \n",
    "    return np.sqrt((x1 - x2) ** 2 + (y1 - y2) ** 2) \n",
    "\n",
    "n = 100\n",
    "k = np.int(np.sqrt(n)) \n",
    "data = [] \n",
    "data = generateData(n, k) \n",
    "x, y = [], [] \n",
    "for i in range(n): \n",
    "    x.append(data[i][0][0]) \n",
    "    y.append(data[i][0][1]) \n",
    "plt.scatter(x, y) \n",
    "\n",
    "# print(data)\n",
    "\n",
    "min_x, max_x = np.min(x), np.max(x) \n",
    "min_y, max_y = np.min(y), np.max(y) \n",
    "\n",
    "#создадим 5 новых точек\n",
    "for i in range(5):\n",
    "    x_new = min_x + np.random.random() * (max_x - min_x) \n",
    "    y_new = min_y + np.random.random() * (max_y - min_y) \n",
    "\n",
    "    plt.scatter(x_new, y_new, color='r') \n",
    "\n",
    "    distance = [] \n",
    "    for j in range(n*k):\n",
    "        distance.append([data[j][1], dist(data[j][0][0], data[j][0][1], x_new, y_new)]) \n",
    "\n",
    "    #вычисляем k точек, расстояние которых минимально до новой\n",
    "    points_with_min_distances = []\n",
    "    clusters = []\n",
    "    min = 1000\n",
    "    min_cl = 12\n",
    "    for j in range(k):\n",
    "        for i in range(len(distance)):\n",
    "            if(len(points_with_min_distances) == 0):\n",
    "                 if(distance[i][1] < min):\n",
    "                    min = distance[i][1]\n",
    "                    min_cl = distance[i][0]\n",
    "            else:\n",
    "                if((distance[i][1] < min) & (distance[i][1] > points_with_min_distances[j-1])):\n",
    "                    min = distance[i][1]\n",
    "                    min_cl = distance[i][0]\n",
    "        points_with_min_distances.append(min)\n",
    "        clusters.append(min_cl)\n",
    "        min = 1000\n",
    "    print(\"\\n\\nТочка: \", x_new, y_new)\n",
    "    print(\"\\n10 минимальных расстояний от нашей точки\")\n",
    "    print(points_with_min_distances)\n",
    "    \n",
    "    import numpy as np\n",
    "    bc = np.bincount(clusters)\n",
    "    \n",
    "    print(\"\\nкластеры точек, у которых мин. расстояние до нашей \",clusters, \"Кластер нашей точки:\", bc.argmax())\n",
    "\n",
    "plt.show()"
   ]
  },
  {
   "cell_type": "code",
   "execution_count": null,
   "metadata": {},
   "outputs": [],
   "source": []
  }
 ],
 "metadata": {
  "kernelspec": {
   "display_name": "Python 3",
   "language": "python",
   "name": "python3"
  },
  "language_info": {
   "codemirror_mode": {
    "name": "ipython",
    "version": 3
   },
   "file_extension": ".py",
   "mimetype": "text/x-python",
   "name": "python",
   "nbconvert_exporter": "python",
   "pygments_lexer": "ipython3",
   "version": "3.8.3"
  }
 },
 "nbformat": 4,
 "nbformat_minor": 4
}
