{
 "cells": [
  {
   "cell_type": "code",
   "execution_count": 24,
   "metadata": {},
   "outputs": [],
   "source": [
    "import numpy as np\n",
    "import cv2\n",
    "from keras.datasets import mnist\n",
    "from keras.models import Sequential\n",
    "from keras.layers import Dense, Dropout, Conv2D, MaxPooling2D, Flatten\n",
    "from keras.callbacks import EarlyStopping\n",
    "from keras.utils import to_categorical\n",
    "\n",
    "class NeuralNet(object):\n",
    "\n",
    "    def __init__(self):\n",
    "        #загружаем датасет mnist\n",
    "        (X_train,y_train), (X_test,y_test) = mnist.load_data()\n",
    "        self.training_images = X_train.reshape((60000, 28 , 28,1)).astype('float32') / 255\n",
    "        self.training_targets = to_categorical(y_train)\n",
    "        self.test_images = X_test.reshape((10000, 28 , 28,1)).astype('float32') / 255\n",
    "        self.test_targets = to_categorical(y_test)\n",
    "        self.input_shape = (self.training_images.shape[1],)\n",
    "\n",
    "        # создаем модельку\n",
    "        self.model = Sequential()\n",
    "        self.model.add(Conv2D(32,(3,3), activation='relu', input_shape=(28,28,1)))\n",
    "        self.model.add(MaxPooling2D((2,2)))\n",
    "        self.model.add(Conv2D(64, (3,3), activation='relu'))\n",
    "        self.model.add(MaxPooling2D((2,2)))\n",
    "        self.model.add(Conv2D(64, (3,3), activation='relu'))\n",
    "        self.model.add(Flatten())\n",
    "        self.model.add(Dense(64, activation='relu'))\n",
    "        self.model.add(Dense(10, activation='softmax'))\n",
    "\n",
    "        self.model.compile(optimizer='adam',loss='categorical_crossentropy', metrics=['accuracy'])\n",
    "        #тренируем(много раз запуская поняла, что для этого примера достаточно epochs)\n",
    "        self.model.fit(self.training_images, self.training_targets, validation_split=0.3, epochs=5)\n",
    "\n",
    "    def predict(self, image):\n",
    "        #изначально тренировочные картинки имеют размеры 28x28, поэтому приводим и нарисованную картинку к этому виду\n",
    "        input = cv2.resize(image, (28 , 28)).reshape((28 , 28,1)).astype('float32') / 255\n",
    "        return self.model.predict_classes(np.array([input]))"
   ]
  },
  {
   "cell_type": "code",
   "execution_count": 25,
   "metadata": {},
   "outputs": [
    {
     "name": "stdout",
     "output_type": "stream",
     "text": [
      "Epoch 1/5\n",
      "1313/1313 [==============================] - 36s 27ms/step - loss: 0.1710 - accuracy: 0.9466 - val_loss: 0.0808 - val_accuracy: 0.9759\n",
      "Epoch 2/5\n",
      "1313/1313 [==============================] - 32s 24ms/step - loss: 0.0514 - accuracy: 0.9838 - val_loss: 0.0583 - val_accuracy: 0.9822\n",
      "Epoch 3/5\n",
      "1313/1313 [==============================] - 31s 23ms/step - loss: 0.0361 - accuracy: 0.9886 - val_loss: 0.0502 - val_accuracy: 0.9858\n",
      "Epoch 4/5\n",
      "1313/1313 [==============================] - 37s 28ms/step - loss: 0.0297 - accuracy: 0.9907 - val_loss: 0.0396 - val_accuracy: 0.9878\n",
      "Epoch 5/5\n",
      "1313/1313 [==============================] - 39s 30ms/step - loss: 0.0238 - accuracy: 0.9921 - val_loss: 0.0397 - val_accuracy: 0.9884\n"
     ]
    }
   ],
   "source": [
    "net = NeuralNet()"
   ]
  },
  {
   "cell_type": "code",
   "execution_count": 34,
   "metadata": {},
   "outputs": [
    {
     "name": "stdout",
     "output_type": "stream",
     "text": [
      "PREDICTION :  [3]\n",
      "PREDICTION :  [0]\n",
      "PREDICTION :  [4]\n",
      "PREDICTION :  [8]\n",
      "PREDICTION :  [7]\n",
      "PREDICTION :  [5]\n"
     ]
    }
   ],
   "source": [
    "import cv2\n",
    "import numpy as np\n",
    "\n",
    "canvas = np.ones((600,600), dtype=\"uint8\") * 255\n",
    "canvas[100:500,100:500] = 0\n",
    "\n",
    "start_point = None\n",
    "end_point = None\n",
    "is_drawing = False\n",
    "\n",
    "def draw_line(img,start_at,end_at):\n",
    "    cv2.line(img,start_at,end_at,255,15)\n",
    "\n",
    "def on_mouse_events(event,x,y,flags,params):\n",
    "    global start_point\n",
    "    global end_point\n",
    "    global canvas\n",
    "    global is_drawing\n",
    "    if event == cv2.EVENT_LBUTTONDOWN:\n",
    "        if is_drawing:\n",
    "            start_point = (x,y)\n",
    "    elif event == cv2.EVENT_MOUSEMOVE:\n",
    "        if is_drawing:\n",
    "            end_point = (x,y)\n",
    "            draw_line(canvas,start_point,end_point)\n",
    "            start_point = end_point\n",
    "    elif event == cv2.EVENT_LBUTTONUP:\n",
    "        is_drawing = False\n",
    "\n",
    "\n",
    "cv2.namedWindow(\"Canvas\")\n",
    "cv2.setMouseCallback(\"Canvas\", on_mouse_events)\n",
    "\n",
    "#управление рисовалкой - на англ буквы:\n",
    "#стирать нарисованное - c\n",
    "#сообщать о готовности рисовать - s\n",
    "#предсказать - p\n",
    "#выйти (также сложно, как и в Vim редакторе))))) - q\n",
    "#При первом запуске нажимаем: s, c и можно рисовать(а то канвас какую-то каляку в начале ставит, поэтому стираем)\n",
    "while(True):\n",
    "    cv2.imshow(\"Canvas\", canvas)\n",
    "    key = cv2.waitKey(1) & 0xFF \n",
    "    if key == ord('q'):\n",
    "        break\n",
    "    elif key == ord('s'):\n",
    "        is_drawing = True\n",
    "    elif key == ord('c'):\n",
    "        canvas[100:500,100:500] = 0\n",
    "    elif key == ord('p'):\n",
    "        image = canvas[100:500,100:500]\n",
    "        result = net.predict(image)\n",
    "        print(\"PREDICTION : \",result)\n",
    "\n",
    "cv2.destroyAllWindows()"
   ]
  },
  {
   "cell_type": "code",
   "execution_count": null,
   "metadata": {},
   "outputs": [],
   "source": []
  }
 ],
 "metadata": {
  "kernelspec": {
   "display_name": "Python 3",
   "language": "python",
   "name": "python3"
  },
  "language_info": {
   "codemirror_mode": {
    "name": "ipython",
    "version": 3
   },
   "file_extension": ".py",
   "mimetype": "text/x-python",
   "name": "python",
   "nbconvert_exporter": "python",
   "pygments_lexer": "ipython3",
   "version": "3.8.5"
  }
 },
 "nbformat": 4,
 "nbformat_minor": 4
}
