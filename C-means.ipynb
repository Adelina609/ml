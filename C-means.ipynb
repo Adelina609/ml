{
 "cells": [
  {
   "cell_type": "code",
   "execution_count": 8,
   "metadata": {},
   "outputs": [],
   "source": [
    "class Point:\n",
    "    \n",
    "    def __init__(self, x, y):\n",
    "        self.x = x\n",
    "        self.y = y\n",
    "        self.probabilityCluster = []\n",
    "        \n",
    "def initProbabilityCluster(points, k):\n",
    "    for point in points:\n",
    "        for i in range(0, k):\n",
    "            point.probabilityCluster.append(0)\n",
    "            \n",
    "def dist(x1, y1, x2, y2):\n",
    "    return np.sqrt((x1-x2)**2 + (y1-y2)**2)\n",
    "\n",
    "def getCoefficient(clusterNum, centers, point, m):\n",
    "    result = 0\n",
    "    distanceToCluster = dist(centers[clusterNum].x, centers[clusterNum].y, point.x, point.y)\n",
    "    for center in centers:\n",
    "        result += pow(distanceToCluster / dist(center.x, center.y, point.x, point.y), 2 / (1 - m))\n",
    "    return result\n"
   ]
  },
  {
   "cell_type": "code",
   "execution_count": 9,
   "metadata": {},
   "outputs": [],
   "source": [
    "import numpy as np\n",
    "import random\n",
    "\n",
    "def initCentroids(points, k, x_center, y_center):\n",
    "    R = 0\n",
    "    n = len(points)\n",
    "    for i in range(0, n):\n",
    "        r = dist(x_center, y_center, points[i].x, points[i].y)\n",
    "        if r > R:\n",
    "            R = r\n",
    "    x_cc = [R * np.cos(2 * np.pi * i / k) + x_center for i in range(k)]\n",
    "    y_cc = [R * np.sin(2 * np.pi * i / k) + y_center for i in range(k)]\n",
    "    result = []\n",
    "    for i in range(0, k):\n",
    "        result.append(Point(x_cc[i], y_cc[i]))\n",
    "    return result\n",
    "\n",
    "def getCalculatedCenters(k, m, points):\n",
    "    result = []\n",
    "    for i in range(0, k):\n",
    "        numerator_x = 0\n",
    "        numerator_y = 0\n",
    "        denominator_x = 0\n",
    "        denominator_y = 0\n",
    "\n",
    "        for point in points:\n",
    "            numerator_x += pow(point.probabilityCluster[i], m) * point.x\n",
    "            denominator_x += pow(point.probabilityCluster[i], m)\n",
    "\n",
    "            numerator_y += pow(point.probabilityCluster[i], m) * point.y\n",
    "            denominator_y += pow(point.probabilityCluster[i], m)\n",
    "\n",
    "        x_cluster_center = numerator_x / denominator_x\n",
    "        y_cluster_center = numerator_y / denominator_y\n",
    "\n",
    "        result.append(Point(x_cluster_center, y_cluster_center))\n",
    "\n",
    "    return result\n"
   ]
  },
  {
   "cell_type": "code",
   "execution_count": 10,
   "metadata": {},
   "outputs": [],
   "source": [
    "def normalizeCoefficient(probabilityCluster):\n",
    "    sum = 0\n",
    "    for probability in probabilityCluster:\n",
    "        sum += probability\n",
    "    for i in range(0, len(probabilityCluster)):\n",
    "        probabilityCluster[i] /= sum"
   ]
  },
  {
   "cell_type": "code",
   "execution_count": 11,
   "metadata": {},
   "outputs": [],
   "source": [
    "def getCalculatedFunction(points, centers):\n",
    "    function_result = 0\n",
    "    for point in points:\n",
    "        probability = point.probabilityCluster\n",
    "        for i in range(0, len(probability)):\n",
    "            function_result += probability[i] * dist(point.x, point.y, centers[i].x, centers[i].y)\n",
    "    return function_result"
   ]
  },
  {
   "cell_type": "code",
   "execution_count": 12,
   "metadata": {},
   "outputs": [],
   "source": [
    "eps = 0.2\n",
    "\n",
    "def c_means(points, m, k):\n",
    "    isFirst = True\n",
    "    initProbabilityCluster(points, k)\n",
    "\n",
    "    x_center = np.mean(list(map(lambda e: e.x, points)))\n",
    "    y_center = np.mean(list(map(lambda e: e.y, points)))\n",
    "\n",
    "    current_function = 1\n",
    "    previous_function = 0\n",
    "\n",
    "    while abs(previous_function - current_function) > eps:\n",
    "        previous_function = current_function\n",
    "        if isFirst:\n",
    "            centers = initCentroids(points, k, x_center, y_center)\n",
    "            isFirst = False\n",
    "        else:\n",
    "            centers = getCalculatedCenters(k, m, points)\n",
    "        for point in points:\n",
    "            for i in range(0, len(centers)):\n",
    "                point.probabilityCluster[i] = getCoefficient(i, centers, point, m)\n",
    "            normalizeCoefficient(point.probabilityCluster)\n",
    "        current_function = getCalculatedFunction(points, centers)\n"
   ]
  },
  {
   "cell_type": "code",
   "execution_count": 19,
   "metadata": {
    "scrolled": false
   },
   "outputs": [
    {
     "name": "stdout",
     "output_type": "stream",
     "text": [
      "(3,74) \n",
      "[0.009628758175954719, 0.9794411631810535, 0.01093007864299192]\n",
      "\n",
      "\n",
      "(50,33) \n",
      "[0.9773020278294552, 0.008712831502262429, 0.013985140668282364]\n",
      "\n",
      "\n",
      "(22,61) \n",
      "[0.0009500946635483538, 0.9983580740231953, 0.0006918313132562728]\n",
      "\n",
      "\n",
      "(14,2) \n",
      "[0.0021519727995939378, 0.0002868908475642347, 0.9975611363528418]\n",
      "\n",
      "\n",
      "(49,14) \n",
      "[0.9978171056942067, 0.00010191479171289944, 0.002080979514080405]\n",
      "\n",
      "\n",
      "(25,69) \n",
      "[4.479729978335718e-09, 0.9999999927269495, 2.7933204768274386e-09]\n",
      "\n",
      "\n",
      "(35,10) \n",
      "[0.21642205585490637, 0.0021207485779232357, 0.7814571955671703]\n",
      "\n",
      "\n",
      "(56,11) \n",
      "[0.9929668774400584, 0.0004936789068755151, 0.006539443653066003]\n",
      "\n",
      "\n",
      "(20,7) \n",
      "[1.3965102642288069e-05, 1.1831395149759902e-06, 0.9999848517578427]\n",
      "\n",
      "\n",
      "(57,74) \n",
      "[0.10161480864419141, 0.8717246303289459, 0.02666056102686267]\n",
      "\n",
      "\n"
     ]
    }
   ],
   "source": [
    "n, k = 10, 3\n",
    "points = [Point(random.randint(1, 100), random.randint(1, 100)) for i in range(n)]\n",
    "\n",
    "c_means(points, 1.5, k)\n",
    "\n",
    "for point in points:\n",
    "    print(\"(\" + str(point.x) + \",\" + str(point.y), end=\") \\n\")\n",
    "    print(point.probabilityCluster)\n",
    "    print(\"\\n\")"
   ]
  },
  {
   "cell_type": "code",
   "execution_count": null,
   "metadata": {},
   "outputs": [],
   "source": []
  }
 ],
 "metadata": {
  "kernelspec": {
   "display_name": "Python 3",
   "language": "python",
   "name": "python3"
  },
  "language_info": {
   "codemirror_mode": {
    "name": "ipython",
    "version": 3
   },
   "file_extension": ".py",
   "mimetype": "text/x-python",
   "name": "python",
   "nbconvert_exporter": "python",
   "pygments_lexer": "ipython3",
   "version": "3.8.3"
  }
 },
 "nbformat": 4,
 "nbformat_minor": 4
}
