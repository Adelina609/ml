{
 "cells": [
  {
   "cell_type": "code",
   "execution_count": 44,
   "metadata": {
    "scrolled": true
   },
   "outputs": [
    {
     "name": "stdout",
     "output_type": "stream",
     "text": [
      "[1, 0, 1, 0, 0, 1, 1, 1, 1, 0, 0, 1, 1, 1, 0, 1, 0, 1, 0, 1, 0, 0, 0]\n"
     ]
    }
   ],
   "source": [
    "import numpy as np \n",
    "import pandas as pd \n",
    " \n",
    "disease = pd.read_csv('disease.csv', delimiter=\";\") \n",
    "symptom = pd.read_csv('symptom.csv', delimiter=\";\") \n",
    "\n",
    "#симптомы, которые есть/нет у пациента в соответствии с табличкой symptom\n",
    "rand_symp = [np.random.randint(0, 2) for i in range(23)] \n",
    "print(rand_symp) "
   ]
  },
  {
   "cell_type": "code",
   "execution_count": 45,
   "metadata": {},
   "outputs": [
    {
     "name": "stdout",
     "output_type": "stream",
     "text": [
      "Вероятности\n",
      " [2.046884692895715e-08, 6.60819731038435e-07, 0.01603977643874852, 8.952045467424953e-14, 3.4908824056908233e-09, 5.52805280528053e-17, 4.950495049504951e-13, 1.4265454900990098e-12, 6.735093861386141e-14]\n",
      "Наиболее вероятная болезнь:  Двусторонний паратонзиллярный абсцесс\n"
     ]
    }
   ],
   "source": [
    "#по теор Байеса: P(A/B) = P(B/A)*P(A)/P(B), тогда P(B/A) - из таблицы symptom, P(A) вычисляем ниже, \n",
    "#P(B) одинаковые, не учитываем, P(A/B) - искомое - вероятность того, что болеет А при симптоме B\n",
    "\n",
    "#P_disease - вероятности заболеть той или иной болезнью (P(A))\n",
    "P_disease = []\n",
    "for i in range(len(disease) - 1): \n",
    "    P_disease.append(disease['количество пациентов'][i]/disease['количество пациентов'][len(disease)-1]) \n",
    "\n",
    "P_dis_sympt = [1]*(len(disease) - 1) \n",
    "#вычисляем P(B/A)*P(A) в P_dis_sympt\n",
    "for i in range(len(disease) - 1): \n",
    "    P_dis_sympt[i] *= P_disease[i] \n",
    "    for j in range(len(symptom)-1):\n",
    "        if rand_symp[j] == 1:\n",
    "            P_dis_sympt[i] *= float(symptom.iloc[j+1][i+1]) \n",
    "print(\"Вероятности\\n\", P_dis_sympt)\n",
    "\n",
    "max = 0\n",
    "max_ind = 0\n",
    "for i in range (0, len(P_dis_sympt)):\n",
    "    if P_dis_sympt[i] > max:\n",
    "        max = P_dis_sympt[i]\n",
    "        max_ind = i\n",
    "\n",
    "print(\"Наиболее вероятная болезнь: \", disease.iloc[disease_index][0])"
   ]
  }
 ],
 "metadata": {
  "kernelspec": {
   "display_name": "Python 3",
   "language": "python",
   "name": "python3"
  },
  "language_info": {
   "codemirror_mode": {
    "name": "ipython",
    "version": 3
   },
   "file_extension": ".py",
   "mimetype": "text/x-python",
   "name": "python",
   "nbconvert_exporter": "python",
   "pygments_lexer": "ipython3",
   "version": "3.8.3"
  }
 },
 "nbformat": 4,
 "nbformat_minor": 4
}
