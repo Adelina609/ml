{
 "cells": [
  {
   "cell_type": "code",
   "execution_count": 50,
   "metadata": {},
   "outputs": [],
   "source": [
    "import matplotlib.pyplot as plt\n",
    "import numpy as np\n",
    "\n",
    "n, k = 100, 4\n",
    "x = [np.random.randint(1, 100) for i  in range(n)]\n",
    "y = [np.random.randint(1, 100) for i  in range(n)]\n"
   ]
  },
  {
   "cell_type": "code",
   "execution_count": 51,
   "metadata": {},
   "outputs": [],
   "source": [
    "x_c = np.mean(x)\n",
    "y_c = np.mean(y)"
   ]
  },
  {
   "cell_type": "code",
   "execution_count": 52,
   "metadata": {},
   "outputs": [],
   "source": [
    "def dist(x1, y1, x2, y2):\n",
    "    return np.sqrt((x1-x2)**2 + (y1-y2)**2)"
   ]
  },
  {
   "cell_type": "code",
   "execution_count": 53,
   "metadata": {},
   "outputs": [],
   "source": [
    "def clust(x, y, x_cc, y_cc):\n",
    "    cluster = []\n",
    "    for i in range(0, n):\n",
    "        d = dist(x[i], y[i], x_cc[0], y_cc[0])\n",
    "        numb = 0\n",
    "        for j in range(0, k):\n",
    "            if dist(x[i], y[i], x_cc[j], y_cc[j]) < d:\n",
    "                d = dist(x[i], y[i], x_cc[j], y_cc[j])\n",
    "                numb = j\n",
    "        cluster.append(numb)\n",
    "    return cluster\n",
    "    "
   ]
  },
  {
   "cell_type": "code",
   "execution_count": 54,
   "metadata": {},
   "outputs": [
    {
     "data": {
      "image/png": "[encoded data removed]",
      "text/plain": [
       "<Figure size 432x288 with 1 Axes>"
      ]
     },
     "metadata": {
      "needs_background": "light"
     },
     "output_type": "display_data"
    }
   ],
   "source": [
    "R = 0\n",
    "for i in range(0, n):\n",
    "    r = dist(x_c, y_c, x[i], y[i])\n",
    "    if r > R:\n",
    "        R = r\n",
    "x_cc = [R*np.cos(2*np.pi*i/k) + x_c for i in range(k)]\n",
    "y_cc = [R*np.sin(2*np.pi*i/k) + y_c for i in range(k)]\n",
    "#x_cc и y_cc - координаты центроидов\n",
    "plt.scatter(x_cc,y_cc)\n",
    "plt.scatter(x,y)\n",
    "plt.show()"
   ]
  },
  {
   "cell_type": "code",
   "execution_count": 55,
   "metadata": {},
   "outputs": [
    {
     "data": {
      "image/png": "[encoded data removed]",
      "text/plain": [
       "<Figure size 432x288 with 1 Axes>"
      ]
     },
     "metadata": {
      "needs_background": "light"
     },
     "output_type": "display_data"
    }
   ],
   "source": [
    "cluster = clust(x, y, x_cc, y_cc)\n",
    "\n",
    "for i in range(0, n):\n",
    "    if cluster[i] == 0:\n",
    "        plt.scatter(x[i], y[i], color='r')\n",
    "    if cluster[i] == 1:\n",
    "        plt.scatter(x[i], y[i], color='b')\n",
    "    if cluster[i] == 2:\n",
    "        plt.scatter(x[i], y[i], color='g')\n",
    "    if cluster[i] == 3:\n",
    "        plt.scatter(x[i], y[i], color='y')\n",
    "\n",
    "plt.show()"
   ]
  },
  {
   "cell_type": "code",
   "execution_count": null,
   "metadata": {},
   "outputs": [],
   "source": []
  }
 ],
 "metadata": {
  "kernelspec": {
   "display_name": "Python 3",
   "language": "python",
   "name": "python3"
  },
  "language_info": {
   "codemirror_mode": {
    "name": "ipython",
    "version": 3
   },
   "file_extension": ".py",
   "mimetype": "text/x-python",
   "name": "python",
   "nbconvert_exporter": "python",
   "pygments_lexer": "ipython3",
   "version": "3.8.3"
  }
 },
 "nbformat": 4,
 "nbformat_minor": 4
}
