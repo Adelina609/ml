{
 "cells": [
  {
   "cell_type": "code",
   "execution_count": 23,
   "metadata": {},
   "outputs": [],
   "source": [
    "import matplotlib.pyplot as plt\n",
    "import numpy as np\n",
    "\n",
    "n = 100\n",
    "x = [np.random.randint(1, n) for i  in range(n)]\n",
    "y = [np.random.randint(1, n) for i  in range(n)]\n"
   ]
  },
  {
   "cell_type": "code",
   "execution_count": 24,
   "metadata": {},
   "outputs": [],
   "source": [
    "x_c = np.mean(x)\n",
    "y_c = np.mean(y)"
   ]
  },
  {
   "cell_type": "code",
   "execution_count": 25,
   "metadata": {},
   "outputs": [],
   "source": [
    "def dist(x1, y1, x2, y2):\n",
    "    return np.sqrt((x1-x2)**2 + (y1-y2)**2)"
   ]
  },
  {
   "cell_type": "code",
   "execution_count": 26,
   "metadata": {},
   "outputs": [],
   "source": [
    "def clust(x, y, x_cc, y_cc, k):\n",
    "    cluster = []\n",
    "    for i in range(0, n):\n",
    "        d = dist(x[i], y[i], x_cc[0], y_cc[0])\n",
    "        numb = 0\n",
    "        for j in range(0, k):\n",
    "            if dist(x[i], y[i], x_cc[j], y_cc[j]) < d:\n",
    "                d = dist(x[i], y[i], x_cc[j], y_cc[j])\n",
    "                numb = j\n",
    "        cluster.append(numb)\n",
    "    return cluster\n",
    "    "
   ]
  },
  {
   "cell_type": "code",
   "execution_count": 27,
   "metadata": {},
   "outputs": [],
   "source": [
    "def k_means(k):\n",
    "    R = 0\n",
    "    for i in range(0, n):\n",
    "        r = dist(x_c, y_c, x[i], y[i])\n",
    "        if r > R:\n",
    "            R = r\n",
    "            \n",
    "    x_cc = [R*np.cos(2*np.pi*i/k) + x_c for i in range(k)]\n",
    "    y_cc = [R*np.sin(2*np.pi*i/k) + y_c for i in range(k)]\n",
    "    #x_cc и y_cc - координаты центроидов\n",
    "    cluster = clust(x, y, x_cc, y_cc, k)\n",
    "    colors = ['r', 'b', 'g', 'y', 'black', 'purple', 'grey', 'orange']\n",
    "    final_sum = 0\n",
    "    for i in range(0, n):\n",
    "        sum = 0\n",
    "        for k_count in range(0, k):\n",
    "            if cluster[i] == k_count:\n",
    "                sum += (x_cc[k_count]-x[i])**2\n",
    "        final_sum += sum\n",
    "    return final_sum"
   ]
  },
  {
   "cell_type": "code",
   "execution_count": 42,
   "metadata": {},
   "outputs": [
    {
     "name": "stdout",
     "output_type": "stream",
     "text": [
      "Суммы:  [167686.84917062472, 88862.62277904645, 81718.20240035298, 53685.14775216978, 49840.93401225361, 50445.834628841294]  Минимальная сумма 49840.93401225361  при k =  5\n"
     ]
    }
   ],
   "source": [
    "final_sums = []\n",
    "min_k = 999998\n",
    "for i in range(2, 8):\n",
    "    final_sums.append(k_means(i))\n",
    "for i in range(0, 6):\n",
    "    if (final_sums[i] < min_k):\n",
    "        min_k = i\n",
    "print(\"Суммы: \", final_sums, \" Минимальная сумма\", min(final_sums), \" при k = \", min_k + 5)"
   ]
  },
  {
   "cell_type": "code",
   "execution_count": 47,
   "metadata": {},
   "outputs": [],
   "source": [
    "def calculateD(final_sums):\n",
    "    d = 555555\n",
    "    k_temp = 0\n",
    "    sum = 0\n",
    "    for i in range(1, 5):\n",
    "        temp = abs(final_sums[i] - final_sums[i+1])/abs(final_sums[i-1] - final_sums[i])\n",
    "        if(temp < d):\n",
    "            d = temp\n",
    "            k_temp = i\n",
    "            sum = final_sums[i]\n",
    "        print(temp)\n",
    "    print(\"D = \", d, \"k = \", k_temp + 1, \"при сумме \", sum)"
   ]
  },
  {
   "cell_type": "code",
   "execution_count": 48,
   "metadata": {},
   "outputs": [
    {
     "name": "stdout",
     "output_type": "stream",
     "text": [
      "0.09063736754233201\n",
      "3.9237689220787053\n",
      "0.13713146098993936\n",
      "0.1573535337816247\n",
      "D =  0.09063736754233201 k =  2 при сумме  88862.62277904645\n"
     ]
    }
   ],
   "source": [
    "calculateD(final_sums)"
   ]
  }
 ],
 "metadata": {
  "kernelspec": {
   "display_name": "Python 3",
   "language": "python",
   "name": "python3"
  },
  "language_info": {
   "codemirror_mode": {
    "name": "ipython",
    "version": 3
   },
   "file_extension": ".py",
   "mimetype": "text/x-python",
   "name": "python",
   "nbconvert_exporter": "python",
   "pygments_lexer": "ipython3",
   "version": "3.8.3"
  }
 },
 "nbformat": 4,
 "nbformat_minor": 4
}
