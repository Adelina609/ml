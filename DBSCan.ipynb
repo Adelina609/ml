{
 "cells": [
  {
   "cell_type": "code",
   "execution_count": 2,
   "metadata": {
    "scrolled": false
   },
   "outputs": [],
   "source": [
    "import numpy as np\n",
    "import collections\n",
    "import matplotlib.pyplot as plt\n",
    "import queue\n",
    "import scipy.io as spio\n",
    "\n",
    "NOISE = 0\n",
    "UNASSIGNED = 0\n",
    "core=-1\n",
    "edge=-2\n",
    "n = 600\n",
    "\n",
    "def create_points():\n",
    "    x = [np.random.randint(1, 100) for i in range(n)]\n",
    "    y = [np.random.randint(1, 100) for i in range(n)]\n",
    "    temp = []\n",
    "    for i in range (n):\n",
    "        temp.append([x[i], y[i]])\n",
    "    train = np.array(temp)\n",
    "    return train\n",
    "        \n",
    "train = create_points()\n",
    "\n",
    "def plotRes(data, clusterRes, clusterNum):\n",
    "    nPoints = len(data)\n",
    "    scatterColors = ['blue', 'green', 'brown', 'red', 'purple', 'orange', 'yellow']\n",
    "    for i in range(clusterNum):\n",
    "        if (i==0):\n",
    "            #все шумы черным цветом\n",
    "            color='black'\n",
    "        else:\n",
    "            color = scatterColors[i % len(scatterColors)]\n",
    "        x1 = [];  y1 = []\n",
    "        for j in range(nPoints):\n",
    "            if clusterRes[j] == i:\n",
    "                x1.append(data[j,0])\n",
    "                y1.append(data[j,1])\n",
    "        plt.scatter(x1, y1, c=color, alpha=1, marker='.')"
   ]
  },
  {
   "cell_type": "code",
   "execution_count": 3,
   "metadata": {},
   "outputs": [],
   "source": [
    "def neighbor_points(data, pointId, radius):\n",
    "    points = []\n",
    "    for i in range(len(data)):\n",
    "        if (np.sqrt((data[i,0] - data[pointId,0]) ** 2 + (data[i,1] - data[pointId,1]) ** 2)) <= radius:\n",
    "            points.append(i)\n",
    "    return points"
   ]
  },
  {
   "cell_type": "code",
   "execution_count": 4,
   "metadata": {},
   "outputs": [],
   "source": [
    "def dbscan(data, Eps, MinPt):\n",
    "    pointlabel  = [UNASSIGNED] * len(data)\n",
    "    pointcount = []\n",
    "    corepoint=[]\n",
    "    noncore=[]\n",
    "    \n",
    "    for i in range(len(data)):\n",
    "        pointcount.append(neighbor_points(train,i,Eps))\n",
    "    \n",
    "    for i in range(len(pointcount)):\n",
    "        if (len(pointcount[i])>=MinPt):\n",
    "            pointlabel[i]=core\n",
    "            corepoint.append(i)\n",
    "        else:\n",
    "            noncore.append(i)\n",
    "\n",
    "    for i in noncore:\n",
    "        for j in pointcount[i]:\n",
    "            if j in corepoint:\n",
    "                pointlabel[i]=edge\n",
    "\n",
    "                break\n",
    "            \n",
    "    cl = 1\n",
    "    for i in range(len(pointlabel)):\n",
    "        q = queue.Queue()\n",
    "        if (pointlabel[i] == core):\n",
    "            pointlabel[i] = cl\n",
    "            for x in pointcount[i]:\n",
    "                if(pointlabel[x]==core):\n",
    "                    q.put(x)\n",
    "                    pointlabel[x]=cl\n",
    "                elif(pointlabel[x]==edge):\n",
    "                    pointlabel[x]=cl\n",
    "            while not q.empty():\n",
    "                neighbors = pointcount[q.get()]\n",
    "                for y in neighbors:\n",
    "                    if (pointlabel[y]==core):\n",
    "                        pointlabel[y]=cl\n",
    "                        q.put(y)\n",
    "                    if (pointlabel[y]==edge):\n",
    "                        pointlabel[y]=cl            \n",
    "            cl=cl+1\n",
    "           \n",
    "    return pointlabel,cl"
   ]
  },
  {
   "cell_type": "code",
   "execution_count": 8,
   "metadata": {},
   "outputs": [
    {
     "data": {
      "image/png": "[encoded data removed]",
      "text/plain": [
       "<Figure size 432x288 with 1 Axes>"
      ]
     },
     "metadata": {
      "needs_background": "light"
     },
     "output_type": "display_data"
    },
    {
     "name": "stdout",
     "output_type": "stream",
     "text": [
      "колво кластеров 23\n"
     ]
    }
   ],
   "source": [
    "pointlabel,cl = dbscan(train,5,7)\n",
    "plotRes(train, pointlabel, cl)\n",
    "plt.show()\n",
    "print('колво кластеров ' + str(cl-1))"
   ]
  },
  {
   "cell_type": "code",
   "execution_count": null,
   "metadata": {},
   "outputs": [],
   "source": []
  }
 ],
 "metadata": {
  "kernelspec": {
   "display_name": "Python 3",
   "language": "python",
   "name": "python3"
  },
  "language_info": {
   "codemirror_mode": {
    "name": "ipython",
    "version": 3
   },
   "file_extension": ".py",
   "mimetype": "text/x-python",
   "name": "python",
   "nbconvert_exporter": "python",
   "pygments_lexer": "ipython3",
   "version": "3.8.3"
  }
 },
 "nbformat": 4,
 "nbformat_minor": 4
}
